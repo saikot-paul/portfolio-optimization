{
 "cells": [
  {
   "cell_type": "code",
   "execution_count": 2,
   "id": "8a7c9ee7",
   "metadata": {},
   "outputs": [],
   "source": [
    "import numpy as np\n",
    "import pandas as pd \n",
    "import traceback\n",
    "import yfinance as yf"
   ]
  },
  {
   "cell_type": "markdown",
   "id": "33cdd984",
   "metadata": {},
   "source": [
    "# Helper class: Fetch Stock Data \n",
    "\n",
    "To Do List: \n",
    "* Get data within a specific range"
   ]
  },
  {
   "cell_type": "code",
   "execution_count": 3,
   "id": "b7d60f0e",
   "metadata": {},
   "outputs": [],
   "source": [
    "class StockFetcher: \n",
    "    def __fetch_historical_data(self, ticker, time_unit, period=None): \n",
    "        try:\n",
    "            if not period: \n",
    "                if time_unit in ['ytd', 'max']: \n",
    "                    period_str = f'{time_unit}'\n",
    "                else:\n",
    "                    raise ValueError('Period must be defined for a given time unit')\n",
    "            else: \n",
    "                period_str = f'{period}{time_unit}'\n",
    "\n",
    "            data = yf.Ticker(ticker).history(period=period_str)\n",
    "            return data \n",
    "        except Exception as e: \n",
    "            print(f'Validation error: {e}')\n",
    "            traceback.print_exc()\n",
    "            return None \n",
    "\n",
    "    def get_stock_data(self, ticker, time_unit, period=None): \n",
    "        if time_unit not in ['d', 'mo', 'y', 'ytd', 'max']: \n",
    "            raise ValueError('Time unit not valid') # Later be changed to a HTTP error \n",
    "        \n",
    "        match time_unit: \n",
    "            case 'd': \n",
    "                if period not in [1, 5]: \n",
    "                    raise ValueError('Period not valid') # Later be changed to a HTTP error \n",
    "            case 'mo': \n",
    "                if period not in [1, 3, 6]: \n",
    "                    raise ValueError('Period not valid') # Later be changed to a HTTP error \n",
    "            case 'y': \n",
    "                if period not in [1, 2, 5, 10]: \n",
    "                    raise ValueError('Period not valid') # Later be changed to a HTTP error \n",
    "            case 'ytd' | 'max': \n",
    "                period = None\n",
    "            case _: \n",
    "                raise ValueError('Time unit not valid')\n",
    "        \n",
    "        try: \n",
    "            data = self.__fetch_historical_data(ticker, time_unit, period)\n",
    "            return data\n",
    "        except Exception as e: \n",
    "            print(f'Validation error: {e}')\n",
    "            traceback.print_exc()\n",
    "            return None"
   ]
  },
  {
   "cell_type": "markdown",
   "id": "fc800092",
   "metadata": {},
   "source": [
    "# Helper Class: Performs Regression Analysis \n",
    "\n",
    "To Do List: \n",
    "* Regression analysis within a specific range "
   ]
  },
  {
   "cell_type": "code",
   "execution_count": 7,
   "id": "c7347d86",
   "metadata": {},
   "outputs": [
    {
     "name": "stdout",
     "output_type": "stream",
     "text": [
      "Ticker: AAPL\n",
      "\t- Excess Returns: 0.0004157690459561409\n",
      "\t- Market Relation: 1.2098946658816967\n",
      "\t- Expected Returns: 0.0010865688364017536%\n",
      "Ticker: NVDA\n",
      "\t- Excess Returns: 0.0017250249298859479\n",
      "\t- Market Relation: 1.7478951317216191\n",
      "\t- Expected Returns: 0.0026941073807332967%\n",
      "Ticker: GOOG\n",
      "\t- Excess Returns: 0.0002145187965467393\n",
      "\t- Market Relation: 1.1555181452128969\n",
      "\t- Expected Returns: 0.0008551707074302819%\n"
     ]
    }
   ],
   "source": [
    "class LinearRegresion: \n",
    "\n",
    "    def __get_coefficients(self, asset, market):\n",
    "        avg_market_return = market['Returns'].mean()\n",
    "        avg_asset_return = asset['Returns'].mean()\n",
    "\n",
    "        covariance = market['Returns'].cov(asset['Returns'])\n",
    "        variance = market['Returns'].var() \n",
    "\n",
    "        beta = covariance / variance \n",
    "        alpha = avg_asset_return - beta * avg_market_return\n",
    "\n",
    "        expected_returns = alpha + beta*avg_market_return\n",
    "        \n",
    "        return alpha, beta, expected_returns\n",
    "\n",
    "    def linear_regression(self, ticker): \n",
    "        stock_fetcher = StockFetcher() \n",
    "        asset = stock_fetcher.get_stock_data(ticker=ticker, time_unit='y', period=10)    \n",
    "        market = stock_fetcher.get_stock_data(ticker='SPY', time_unit='y', period=10)    \n",
    "\n",
    "        date_match = pd.merge(asset, market, left_index=True, right_index=True, how='inner').index \n",
    "\n",
    "        asset_filtered = asset.loc[date_match]\n",
    "        market_filtered = market.loc[date_match]\n",
    "\n",
    "        asset_filtered['Returns'] = asset_filtered.Close.pct_change()\n",
    "        market_filtered['Returns'] = market_filtered.Close.pct_change()\n",
    "\n",
    "        alpha, beta, expected_returns = self.__get_coefficients(asset_filtered, market_filtered)\n",
    "\n",
    "        return alpha, beta, expected_returns\n",
    "\n",
    "lg = LinearRegresion() \n",
    "\n",
    "for ticker in ['AAPL', 'NVDA', 'GOOG']: \n",
    "    alpha, beta, expected_returns = LinearRegresion().linear_regression(ticker)\n",
    "    print(f'Ticker: {ticker}\\n\\t- Excess Returns: {alpha}\\n\\t- Market Relation: {beta}\\n\\t- Expected Returns: {expected_returns}%')"
   ]
  },
  {
   "cell_type": "code",
   "execution_count": null,
   "id": "2a95fada",
   "metadata": {},
   "outputs": [],
   "source": []
  }
 ],
 "metadata": {
  "kernelspec": {
   "display_name": "Python 3 (ipykernel)",
   "language": "python",
   "name": "python3"
  },
  "language_info": {
   "codemirror_mode": {
    "name": "ipython",
    "version": 3
   },
   "file_extension": ".py",
   "mimetype": "text/x-python",
   "name": "python",
   "nbconvert_exporter": "python",
   "pygments_lexer": "ipython3",
   "version": "3.10.9"
  }
 },
 "nbformat": 4,
 "nbformat_minor": 5
}
